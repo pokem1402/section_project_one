{
  "nbformat": 4,
  "nbformat_minor": 0,
  "metadata": {
    "colab": {
      "name": "EDA_1.ipynb",
      "provenance": [],
      "collapsed_sections": [],
      "authorship_tag": "ABX9TyMoB/wPh9ep1tt62c6qswJb",
      "include_colab_link": true
    },
    "kernelspec": {
      "name": "python3",
      "display_name": "Python 3"
    },
    "language_info": {
      "name": "python"
    }
  },
  "cells": [
    {
      "cell_type": "markdown",
      "metadata": {
        "id": "view-in-github",
        "colab_type": "text"
      },
      "source": [
        "<a href=\"https://colab.research.google.com/github/pokem1402/section_project_one/blob/main/EDA_1.ipynb\" target=\"_parent\"><img src=\"https://colab.research.google.com/assets/colab-badge.svg\" alt=\"Open In Colab\"/></a>"
      ]
    },
    {
      "cell_type": "markdown",
      "source": [
        "# 1. Loading Dataset"
      ],
      "metadata": {
        "id": "g4LKbDsmorfh"
      }
    },
    {
      "cell_type": "code",
      "execution_count": null,
      "metadata": {
        "colab": {
          "base_uri": "https://localhost:8080/"
        },
        "id": "_VtVNoRMl2ji",
        "outputId": "28e135ca-dd9e-478d-939b-6f511f443b55"
      },
      "outputs": [
        {
          "output_type": "stream",
          "name": "stdout",
          "text": [
            "Drive already mounted at /content/drive; to attempt to forcibly remount, call drive.mount(\"/content/drive\", force_remount=True).\n"
          ]
        }
      ],
      "source": [
        "from google.colab import drive\n",
        "drive.mount('/content/drive')"
      ]
    },
    {
      "cell_type": "code",
      "source": [
        "import os\n",
        "\n",
        "os.chdir(\"drive/My Drive/dataset\")"
      ],
      "metadata": {
        "id": "10elFLKcnzU8"
      },
      "execution_count": null,
      "outputs": []
    },
    {
      "cell_type": "code",
      "source": [
        "!ls"
      ],
      "metadata": {
        "colab": {
          "base_uri": "https://localhost:8080/"
        },
        "id": "WC2PFx8woEmE",
        "outputId": "3ed0dabd-2df3-4a92-8efc-6cf8a754450a"
      },
      "execution_count": null,
      "outputs": [
        {
          "output_type": "stream",
          "name": "stdout",
          "text": [
            "vgames2.csv\n"
          ]
        }
      ]
    },
    {
      "cell_type": "code",
      "source": [
        "import pandas as pd\n",
        "\n",
        "df_original = pd.read_csv(\"vgames2.csv\")"
      ],
      "metadata": {
        "id": "SopNhD9IoHTs"
      },
      "execution_count": null,
      "outputs": []
    },
    {
      "cell_type": "markdown",
      "source": [
        "# 2. EDA"
      ],
      "metadata": {
        "id": "C3VJTXKDo2U3"
      }
    },
    {
      "cell_type": "code",
      "source": [
        "df_original.head()"
      ],
      "metadata": {
        "colab": {
          "base_uri": "https://localhost:8080/",
          "height": 250
        },
        "id": "ZLbZDrxgokC7",
        "outputId": "7a3de3ab-db46-4988-fab6-67a0dadfa4ab"
      },
      "execution_count": null,
      "outputs": [
        {
          "output_type": "execute_result",
          "data": {
            "text/plain": [
              "   Unnamed: 0                                            Name Platform  \\\n",
              "0           1                    Candace Kane's Candy Factory       DS   \n",
              "1           2                                  The Munchables      Wii   \n",
              "2           3  Otome wa Oanesama Boku ni Koi Shiteru Portable      PSP   \n",
              "3           4                Deal or No Deal: Special Edition       DS   \n",
              "4           5       Ben 10 Ultimate Alien: Cosmic Destruction      PS3   \n",
              "\n",
              "     Year      Genre           Publisher NA_Sales EU_Sales JP_Sales  \\\n",
              "0  2008.0     Action           Destineer     0.04        0        0   \n",
              "1  2009.0     Action  Namco Bandai Games     0.17        0        0   \n",
              "2  2010.0  Adventure           Alchemist        0        0     0.02   \n",
              "3  2010.0       Misc           Zoo Games     0.04        0        0   \n",
              "4  2010.0   Platform         D3Publisher     0.12     0.09        0   \n",
              "\n",
              "  Other_Sales  \n",
              "0           0  \n",
              "1        0.01  \n",
              "2           0  \n",
              "3           0  \n",
              "4        0.04  "
            ],
            "text/html": [
              "\n",
              "  <div id=\"df-811b6da5-9c0b-43d5-816b-5de9c53a6595\">\n",
              "    <div class=\"colab-df-container\">\n",
              "      <div>\n",
              "<style scoped>\n",
              "    .dataframe tbody tr th:only-of-type {\n",
              "        vertical-align: middle;\n",
              "    }\n",
              "\n",
              "    .dataframe tbody tr th {\n",
              "        vertical-align: top;\n",
              "    }\n",
              "\n",
              "    .dataframe thead th {\n",
              "        text-align: right;\n",
              "    }\n",
              "</style>\n",
              "<table border=\"1\" class=\"dataframe\">\n",
              "  <thead>\n",
              "    <tr style=\"text-align: right;\">\n",
              "      <th></th>\n",
              "      <th>Unnamed: 0</th>\n",
              "      <th>Name</th>\n",
              "      <th>Platform</th>\n",
              "      <th>Year</th>\n",
              "      <th>Genre</th>\n",
              "      <th>Publisher</th>\n",
              "      <th>NA_Sales</th>\n",
              "      <th>EU_Sales</th>\n",
              "      <th>JP_Sales</th>\n",
              "      <th>Other_Sales</th>\n",
              "    </tr>\n",
              "  </thead>\n",
              "  <tbody>\n",
              "    <tr>\n",
              "      <th>0</th>\n",
              "      <td>1</td>\n",
              "      <td>Candace Kane's Candy Factory</td>\n",
              "      <td>DS</td>\n",
              "      <td>2008.0</td>\n",
              "      <td>Action</td>\n",
              "      <td>Destineer</td>\n",
              "      <td>0.04</td>\n",
              "      <td>0</td>\n",
              "      <td>0</td>\n",
              "      <td>0</td>\n",
              "    </tr>\n",
              "    <tr>\n",
              "      <th>1</th>\n",
              "      <td>2</td>\n",
              "      <td>The Munchables</td>\n",
              "      <td>Wii</td>\n",
              "      <td>2009.0</td>\n",
              "      <td>Action</td>\n",
              "      <td>Namco Bandai Games</td>\n",
              "      <td>0.17</td>\n",
              "      <td>0</td>\n",
              "      <td>0</td>\n",
              "      <td>0.01</td>\n",
              "    </tr>\n",
              "    <tr>\n",
              "      <th>2</th>\n",
              "      <td>3</td>\n",
              "      <td>Otome wa Oanesama Boku ni Koi Shiteru Portable</td>\n",
              "      <td>PSP</td>\n",
              "      <td>2010.0</td>\n",
              "      <td>Adventure</td>\n",
              "      <td>Alchemist</td>\n",
              "      <td>0</td>\n",
              "      <td>0</td>\n",
              "      <td>0.02</td>\n",
              "      <td>0</td>\n",
              "    </tr>\n",
              "    <tr>\n",
              "      <th>3</th>\n",
              "      <td>4</td>\n",
              "      <td>Deal or No Deal: Special Edition</td>\n",
              "      <td>DS</td>\n",
              "      <td>2010.0</td>\n",
              "      <td>Misc</td>\n",
              "      <td>Zoo Games</td>\n",
              "      <td>0.04</td>\n",
              "      <td>0</td>\n",
              "      <td>0</td>\n",
              "      <td>0</td>\n",
              "    </tr>\n",
              "    <tr>\n",
              "      <th>4</th>\n",
              "      <td>5</td>\n",
              "      <td>Ben 10 Ultimate Alien: Cosmic Destruction</td>\n",
              "      <td>PS3</td>\n",
              "      <td>2010.0</td>\n",
              "      <td>Platform</td>\n",
              "      <td>D3Publisher</td>\n",
              "      <td>0.12</td>\n",
              "      <td>0.09</td>\n",
              "      <td>0</td>\n",
              "      <td>0.04</td>\n",
              "    </tr>\n",
              "  </tbody>\n",
              "</table>\n",
              "</div>\n",
              "      <button class=\"colab-df-convert\" onclick=\"convertToInteractive('df-811b6da5-9c0b-43d5-816b-5de9c53a6595')\"\n",
              "              title=\"Convert this dataframe to an interactive table.\"\n",
              "              style=\"display:none;\">\n",
              "        \n",
              "  <svg xmlns=\"http://www.w3.org/2000/svg\" height=\"24px\"viewBox=\"0 0 24 24\"\n",
              "       width=\"24px\">\n",
              "    <path d=\"M0 0h24v24H0V0z\" fill=\"none\"/>\n",
              "    <path d=\"M18.56 5.44l.94 2.06.94-2.06 2.06-.94-2.06-.94-.94-2.06-.94 2.06-2.06.94zm-11 1L8.5 8.5l.94-2.06 2.06-.94-2.06-.94L8.5 2.5l-.94 2.06-2.06.94zm10 10l.94 2.06.94-2.06 2.06-.94-2.06-.94-.94-2.06-.94 2.06-2.06.94z\"/><path d=\"M17.41 7.96l-1.37-1.37c-.4-.4-.92-.59-1.43-.59-.52 0-1.04.2-1.43.59L10.3 9.45l-7.72 7.72c-.78.78-.78 2.05 0 2.83L4 21.41c.39.39.9.59 1.41.59.51 0 1.02-.2 1.41-.59l7.78-7.78 2.81-2.81c.8-.78.8-2.07 0-2.86zM5.41 20L4 18.59l7.72-7.72 1.47 1.35L5.41 20z\"/>\n",
              "  </svg>\n",
              "      </button>\n",
              "      \n",
              "  <style>\n",
              "    .colab-df-container {\n",
              "      display:flex;\n",
              "      flex-wrap:wrap;\n",
              "      gap: 12px;\n",
              "    }\n",
              "\n",
              "    .colab-df-convert {\n",
              "      background-color: #E8F0FE;\n",
              "      border: none;\n",
              "      border-radius: 50%;\n",
              "      cursor: pointer;\n",
              "      display: none;\n",
              "      fill: #1967D2;\n",
              "      height: 32px;\n",
              "      padding: 0 0 0 0;\n",
              "      width: 32px;\n",
              "    }\n",
              "\n",
              "    .colab-df-convert:hover {\n",
              "      background-color: #E2EBFA;\n",
              "      box-shadow: 0px 1px 2px rgba(60, 64, 67, 0.3), 0px 1px 3px 1px rgba(60, 64, 67, 0.15);\n",
              "      fill: #174EA6;\n",
              "    }\n",
              "\n",
              "    [theme=dark] .colab-df-convert {\n",
              "      background-color: #3B4455;\n",
              "      fill: #D2E3FC;\n",
              "    }\n",
              "\n",
              "    [theme=dark] .colab-df-convert:hover {\n",
              "      background-color: #434B5C;\n",
              "      box-shadow: 0px 1px 3px 1px rgba(0, 0, 0, 0.15);\n",
              "      filter: drop-shadow(0px 1px 2px rgba(0, 0, 0, 0.3));\n",
              "      fill: #FFFFFF;\n",
              "    }\n",
              "  </style>\n",
              "\n",
              "      <script>\n",
              "        const buttonEl =\n",
              "          document.querySelector('#df-811b6da5-9c0b-43d5-816b-5de9c53a6595 button.colab-df-convert');\n",
              "        buttonEl.style.display =\n",
              "          google.colab.kernel.accessAllowed ? 'block' : 'none';\n",
              "\n",
              "        async function convertToInteractive(key) {\n",
              "          const element = document.querySelector('#df-811b6da5-9c0b-43d5-816b-5de9c53a6595');\n",
              "          const dataTable =\n",
              "            await google.colab.kernel.invokeFunction('convertToInteractive',\n",
              "                                                     [key], {});\n",
              "          if (!dataTable) return;\n",
              "\n",
              "          const docLinkHtml = 'Like what you see? Visit the ' +\n",
              "            '<a target=\"_blank\" href=https://colab.research.google.com/notebooks/data_table.ipynb>data table notebook</a>'\n",
              "            + ' to learn more about interactive tables.';\n",
              "          element.innerHTML = '';\n",
              "          dataTable['output_type'] = 'display_data';\n",
              "          await google.colab.output.renderOutput(dataTable, element);\n",
              "          const docLink = document.createElement('div');\n",
              "          docLink.innerHTML = docLinkHtml;\n",
              "          element.appendChild(docLink);\n",
              "        }\n",
              "      </script>\n",
              "    </div>\n",
              "  </div>\n",
              "  "
            ]
          },
          "metadata": {},
          "execution_count": 8
        }
      ]
    },
    {
      "cell_type": "markdown",
      "source": [
        "## 1) 데이터에 있는 이상치 발견 및 수정"
      ],
      "metadata": {
        "id": "WTyOGWqbs55K"
      }
    },
    {
      "cell_type": "code",
      "source": [
        "\"\"\"\n",
        "DataFrame.iterrows()\n",
        " : row 값에 대해 loop를 수행하게 해주는 함수.\n",
        "\"\"\""
      ],
      "metadata": {
        "colab": {
          "base_uri": "https://localhost:8080/",
          "height": 36
        },
        "id": "EPbcZFXLs44M",
        "outputId": "457c2865-7d87-4a48-9afb-bfa349a964c3"
      },
      "execution_count": null,
      "outputs": [
        {
          "output_type": "execute_result",
          "data": {
            "text/plain": [
              "'\\nDataFrame.iterrows()\\n : row 값에 대해 loop를 수행하게 해주는 함수.\\n'"
            ],
            "application/vnd.google.colaboratory.intrinsic+json": {
              "type": "string"
            }
          },
          "metadata": {},
          "execution_count": 9
        }
      ]
    },
    {
      "cell_type": "code",
      "source": [
        "# (1) 불필요한 index 제거\n",
        "df = df_original.drop(axis=1, columns=\"Unnamed: 0\")"
      ],
      "metadata": {
        "id": "y84Bw3TUpABa"
      },
      "execution_count": null,
      "outputs": []
    },
    {
      "cell_type": "code",
      "source": [
        "# (2) 중복 제거\n",
        "df.drop_duplicates(inplace = True)"
      ],
      "metadata": {
        "id": "GKszB0s-53pf"
      },
      "execution_count": null,
      "outputs": []
    },
    {
      "cell_type": "code",
      "source": [
        "# (3) Year를 Int 형식으로 바꿀 수 없는 이유를 찾고, 수정\n",
        "import numpy as np\n",
        "print(\"The number of na : \", df.Year.isna().sum())\n",
        "# df.Year.dropna().astype(\"int\") # nan 만 존재.\n",
        "nan_list = [[idx, df.loc[idx][\"Name\"], df.loc[idx][\"Platform\"]] for idx, _ in enumerate(df.Year.isna()) if _] # nan game list"
      ],
      "metadata": {
        "colab": {
          "base_uri": "https://localhost:8080/"
        },
        "id": "MbVcaRrBtcN9",
        "outputId": "3faf10f0-1b09-49bb-cda9-0db52d34536c"
      },
      "execution_count": null,
      "outputs": [
        {
          "output_type": "stream",
          "name": "stdout",
          "text": [
            "The number of na :  270\n"
          ]
        }
      ]
    },
    {
      "cell_type": "code",
      "source": [
        "# (4) 데이터 shape 확인\n",
        "df.shape"
      ],
      "metadata": {
        "colab": {
          "base_uri": "https://localhost:8080/"
        },
        "id": "wjUv33EwMGOs",
        "outputId": "2d5accc8-ba78-4b70-8a0b-6e1f39b38179"
      },
      "execution_count": null,
      "outputs": [
        {
          "output_type": "execute_result",
          "data": {
            "text/plain": [
              "(16597, 9)"
            ]
          },
          "metadata": {},
          "execution_count": 33
        }
      ]
    },
    {
      "cell_type": "markdown",
      "source": [
        "### (2) nan 값이 들어있는 데이터의 처리 방식\n",
        "\n",
        "1.   삭제 (dropna)\n",
        "2.   관련 데이터를 찾아서 해당 내용을 수정하기 (modify)\n",
        "3.   무시 (ignore)"
      ],
      "metadata": {
        "id": "jJmgdrU0yEq-"
      }
    },
    {
      "cell_type": "code",
      "source": [
        "# (2) 1. 삭제를 할 경우 데이터가 얼마나 줄어들까.\n",
        "print(df.isna().any(axis=1).sum())"
      ],
      "metadata": {
        "colab": {
          "base_uri": "https://localhost:8080/"
        },
        "id": "ophUqAXWubeU",
        "outputId": "359f6a34-6143-478f-aa61-cf8acf9b1249"
      },
      "execution_count": null,
      "outputs": [
        {
          "output_type": "stream",
          "name": "stdout",
          "text": [
            "356\n"
          ]
        }
      ]
    },
    {
      "cell_type": "code",
      "source": [
        "# (2) 2. 어느 attribute에 nan 값이 존재하는가\n",
        "print(df.isna().any(axis=0))"
      ],
      "metadata": {
        "colab": {
          "base_uri": "https://localhost:8080/"
        },
        "id": "QIjL2OdM_qji",
        "outputId": "35bb52d2-f7af-48dd-a11d-2d42d948f59e"
      },
      "execution_count": null,
      "outputs": [
        {
          "output_type": "stream",
          "name": "stdout",
          "text": [
            "Name           False\n",
            "Platform       False\n",
            "Year            True\n",
            "Genre           True\n",
            "Publisher       True\n",
            "NA_Sales       False\n",
            "EU_Sales       False\n",
            "JP_Sales       False\n",
            "Other_Sales    False\n",
            "dtype: bool\n"
          ]
        }
      ]
    },
    {
      "cell_type": "markdown",
      "source": [
        "#### Web에서 게임 이름을 입력하면 Year와 Publisher 그리고 Genre를 얻기\n",
        "\n",
        "Reference : https://www.vgchartz.com/"
      ],
      "metadata": {
        "id": "osU5ewvt7Fx0"
      }
    },
    {
      "cell_type": "code",
      "source": [
        "# nan이 존재하는 데이터의 index\n",
        "nan_idx = df[df.isna().any(axis=1)].index\n",
        "nan_idx"
      ],
      "metadata": {
        "colab": {
          "base_uri": "https://localhost:8080/"
        },
        "id": "ofhd2taocb3Q",
        "outputId": "1cd8a705-9453-4cb2-ae2c-f17aa1bafc4c"
      },
      "execution_count": null,
      "outputs": [
        {
          "output_type": "execute_result",
          "data": {
            "text/plain": [
              "Int64Index([   31,    50,   109,   272,   273,   358,   408,   430,   548,\n",
              "              675,\n",
              "            ...\n",
              "            16130, 16195, 16240, 16275, 16278, 16425, 16431, 16432, 16555,\n",
              "            16587],\n",
              "           dtype='int64', length=356)"
            ]
          },
          "metadata": {},
          "execution_count": 15
        }
      ]
    },
    {
      "cell_type": "markdown",
      "source": [
        "##### 이름을 입력하면 크롤링하는 함수"
      ],
      "metadata": {
        "id": "RKj6dDlII74N"
      }
    },
    {
      "cell_type": "code",
      "source": [
        "import re\n",
        "import lxml.html as lh\n",
        "import requests\n",
        "import traceback\n",
        "import sys\n",
        "import time\n",
        "\n",
        "def debugging(message, Debug):\n",
        "  if Debug:\n",
        "    print(message)\n",
        "\n",
        "def get_data_from_web(game_name, Year = True, Publisher = True, Genre = True, Debug=False, sleep_time = 10, wait_count = 5, return_value = None):\n",
        "  print(game_name, end = ' ')\n",
        "\n",
        "  if return_value is None:\n",
        "    return_value = {\"Name\":game_name, \"Complete\" : False, \"error\": False}\n",
        "  try:\n",
        "    if(Year or Publisher or Genre):\n",
        "      if Year:\n",
        "        return_value[\"Year\"] = -1\n",
        "      if Genre:\n",
        "        return_value[\"Genre\"] = -1\n",
        "      if Publisher:\n",
        "        return_value[\"Publisher\"] = -1\n",
        "    \n",
        "\n",
        "      game_name_ = game_name.replace(\" \", \"+\")\n",
        "\n",
        "      game_base_url = \"https://www.vgchartz.com/game/\"\n",
        "      base_url = \"https://www.vgchartz.com/games/games.php?name=\"\n",
        "      search_attr =\"&keyword=&console=&region=All&developer=&publisher=&goty_year=&genre=&boxart=Both&banner=Both&ownership=Both&showmultiplat=No&results=50&order=Sales&showtotalsales=0&showpublisher=0&showpublisher=1&showvgchartzscore=0&shownasales=0&showdeveloper=0&showcriticscore=0&showpalsales=0&showreleasedate=0&showreleasedate=1&showuserscore=0&showjapansales=0&showlastupdate=0&showothersales=0&showshipped=0\"\n",
        "      resp = requests.get(base_url+game_name+search_attr)\n",
        "      \n",
        "      count = 0\n",
        "      while(not resp.ok):\n",
        "        print(\"not ok\")\n",
        "        time.sleep(sleep_time)\n",
        "        resp = requests.get(base_url+game_name+search_attr)\n",
        "        count+=1\n",
        "        if(count > wait_count):\n",
        "          return_value[\"timeout\"] = True\n",
        "          return return_value\n",
        "\n",
        "      doc = lh.fromstring(resp.content)\n",
        "\n",
        "      def get_str(element):\n",
        "        s = str(element.text_content())\n",
        "        s = re.sub(r\"(\\s\\s+)\", \"\", s)\n",
        "        return s \n",
        "\n",
        "      def get_year(year):\n",
        "        if len(year) == 1:\n",
        "          year = '0'+year\n",
        "        return int(('19' if int(year) > 70 else '20') + year)\n",
        "\n",
        "      names = doc.xpath('//tr/td[3]')\n",
        "      # idx = -1;\n",
        "      idxs = []\n",
        "      for i,name in enumerate(names[4:]):\n",
        "        \n",
        "        name_ = get_str(name)\n",
        "        extra_string_start = name_.find(\"Read the review\")\n",
        "\n",
        "        if (extra_string_start != -1):\n",
        "          name_ = name_[:extra_string_start]\n",
        "        if(name_ == game_name) or (name_.lower() == game_name.lower()) or (re.sub(\"[.!]\", \"\", name_.lower()) == re.sub(\"[.!]\", \"\", game_name.lower())):\n",
        "          # idx = i\n",
        "          idxs.append(i)\n",
        "      #\n",
        "      # year\n",
        "      #\n",
        "      flag_year = False\n",
        "      idx = -1\n",
        "      if Year:\n",
        "        years = doc.xpath('//tr/td[6]')\n",
        "        for idx_ in idxs:\n",
        "          year = get_str(years[idx_+3])\n",
        "          year = re.sub(\" \", \"\", year)\n",
        "          year_ = year[-2:]\n",
        "          if(year_ != \"/A\"):\n",
        "            print(\" Year : \", end=\"\")\n",
        "            year_ = get_year(year_)\n",
        "            return_value[\"Year\"] = year_ \n",
        "            print(year_, end = ' ')\n",
        "            idx = idx_\n",
        "            break\n",
        "        if idx == -1:\n",
        "          flag_year = True\n",
        "\n",
        "      #\n",
        "      # Publisher\n",
        "      #      \n",
        "      if Publisher:\n",
        "        print(\" Publisher : \" , end=\"\")\n",
        "        publishers = doc.xpath('//tr/td[5]')\n",
        "        if idx != -1:\n",
        "          publisher = get_str(publishers[idx+3])\n",
        "          return_value[\"Publisher\"] = publisher\n",
        "        else:\n",
        "          for idx_ in idxs:\n",
        "            publisher = get_str(publishers[idx_+3])\n",
        "            if publisher == \"Unknown\":\n",
        "              continue\n",
        "            else:\n",
        "              return_value[\"Publisher\"] = publisher\n",
        "              idx = idx_\n",
        "        if return_value[\"Publisher\"] == -1:\n",
        "          idx = 0\n",
        "          return_value[\"Publisher\"] = \"Unknown\"\n",
        "        print(publisher, end = ' ')\n",
        "\n",
        "      #\n",
        "      # Genre\n",
        "      #\n",
        "      if Genre or flag_year:\n",
        "        hrefs = doc.xpath('//tr/td[3]/a/@href')\n",
        "        game_name_ = game_name.lower()\n",
        "        game_name_ = re.sub(\"[!:\\\\(\\\\)$,./']\", \"\", game_name_)\n",
        "        game_name_ = re.sub(\"-\", \" \", game_name_)\n",
        "        game_name_ = re.sub(\"[ ]{1,}\", \" \", game_name_)\n",
        "\n",
        "        if idx != -1:\n",
        "          # for href in hrefs:\n",
        "          href_part = hrefs[idx].split(\"/\") \n",
        "          # remove special character\n",
        "          ss = href_part[5].replace(\"-\", \" \")\n",
        "          if(ss == game_name_):\n",
        "            game_info_url = hrefs[idx]\n",
        "        else:\n",
        "          for idx_ in idxs:\n",
        "\n",
        "            href_part = hrefs[idx_].split(\"/\")\n",
        "            if(len(href_part) < 5):\n",
        "              continue \n",
        "            # remove special character\n",
        "            ss = href_part[5].replace(\"-\", \" \")\n",
        "            game_name_ = game_name_.replace(\"&\", \"amp\")\n",
        "            if(ss == game_name_):\n",
        "              game_info_url = hrefs[idx_]\n",
        "        print(game_info_url, end=\" \")\n",
        "\n",
        "        resp_ = requests.get(game_info_url)\n",
        "\n",
        "        count = 0\n",
        "        while(not resp_.ok):\n",
        "          print(\"not ok\")\n",
        "          time.sleep(sleep_time)\n",
        "          resp = requests.get(base_url+game_name+search_attr)\n",
        "          count+=1\n",
        "          if(count > wait_count):\n",
        "            return_value[\"timeout\"] = True\n",
        "            return return_value\n",
        "        \n",
        "        doc_ = lh.fromstring(resp_.content)\n",
        "        txt = doc_.text_content()\n",
        "        start = txt.find(\"Genre\")+len(\"Genre\")\n",
        "        if Genre:\n",
        "          print(\" Genre : \", end=\"\")\n",
        "          end = txt.find(\"Other Versions\")\n",
        "          end = end if end != -1 else txt.find(\"Release Dates\", start)\n",
        "          genre = txt[start:end]\n",
        "          return_value[\"Genre\"] = genre\n",
        "          print(genre, end = ' ')\n",
        "        if flag_year:\n",
        "          print(\" Year : \", end=\"\")\n",
        "          start = txt.find(\"Release Dates\",start)+len(\"Release Dates\")\n",
        "          end = txt.find(\"Community Stats\")\n",
        "          years_ = re.findall(\"\\d\\d\\/\\d\\d\\/\\d\\d\", txt[start:end])\n",
        "          year = get_year(str(min([int(y_[-2:]) for y_ in years_])))\n",
        "          return_value[\"Year\"] = year\n",
        "          print(year, end=' ')\n",
        "      \n",
        "      return_value[\"Complete\"] = True\n",
        "      return return_value\n",
        "\n",
        "  except BaseException as e:\n",
        "    # Get current system exception\n",
        "    ex_type, ex_value, ex_traceback = sys.exc_info()\n",
        "\n",
        "    # Extract unformatter stack traces as tuples\n",
        "    trace_back = traceback.extract_tb(ex_traceback)\n",
        "\n",
        "    # Format stacktrace\n",
        "    stack_trace = list()\n",
        "\n",
        "    for trace in trace_back:\n",
        "        stack_trace.append(\"File : %s , Line : %d, Func.Name : %s, Message : %s\" % (trace[0], trace[1], trace[2], trace[3]))\n",
        "\n",
        "    if(Debug):\n",
        "      print(\"Exception type : %s \" % ex_type.__name__)\n",
        "      print(\"Exception message : %s\" %ex_value)\n",
        "      print(\"Stack trace : %s\" %stack_trace)\n",
        "      return_value[\"error\"]= True\n",
        "      return return_value\n",
        "    else:\n",
        "      return_value[\"error\"]= True\n",
        "      return_value[\"error_msg\"] = []\n",
        "      return_value[\"error_msg\"].append(\"Exception type : %s \" % ex_type.__name__)\n",
        "      return_value[\"error_msg\"].append(\"Exception message : %s\" %ex_value)\n",
        "      return_value[\"error_msg\"].append(\"Stack trace : %s\" %stack_trace)\n",
        "      return return_value"
      ],
      "metadata": {
        "id": "PTWMNLxaJfUf"
      },
      "execution_count": null,
      "outputs": []
    },
    {
      "cell_type": "code",
      "source": [
        "# Test\n",
        "get_data_from_web(\"Tour de France 2011\", Year=True, Publisher=False, Genre = True, Debug=True);"
      ],
      "metadata": {
        "id": "sT4lQM3sJ2oE"
      },
      "execution_count": null,
      "outputs": []
    },
    {
      "cell_type": "markdown",
      "source": [
        "#### 저장된 리스트 혹은 빈 리스트를 넣고 인덱스를 넣으면 df로부터 크롤링을 수행하게하는 함수"
      ],
      "metadata": {
        "id": "m-cNZYGVJoAa"
      }
    },
    {
      "cell_type": "code",
      "source": [
        "def find_missing_value(searched_values, missed_idx):\n",
        "\n",
        "  n = len(searched_values)\n",
        "\n",
        "  for i, idx in enumerate(missed_idx):\n",
        "    print(i, idx, end=\" \")\n",
        "\n",
        "\n",
        "    Year = np.isnan(df.loc[idx].Year)\n",
        "    Publisher = False if type(df.loc[idx].Publisher) == str else np.isnan(df.loc[idx].Publisher)\n",
        "    Genre = False if type(df.loc[idx].Genre) == str else np.isnan(df.loc[idx].Genre)\n",
        "\n",
        "\n",
        "    if (i+1 > n): # not visited : append\n",
        "      value = get_data_from_web(df.loc[idx].Name,\n",
        "                                Year = Year,\n",
        "                                Publisher = Publisher,\n",
        "                                Genre = Genre,\n",
        "                                Debug=True)\n",
        "\n",
        "      searched_values.append([idx, value])\n",
        "      n += 1\n",
        "      \n",
        "    else: # already visited\n",
        "\n",
        "      keys = searched_values[i][1].keys()\n",
        "\n",
        "      # Year : nan and if year value is found already -> no need to find\n",
        "      # Year : nan and if year value is not found -> we need to find\n",
        "      Year = Year and (\"Year\" not in keys)\n",
        "      Publisher = Publisher and (\"Publisher\" not in keys)\n",
        "      Genre = Genre and (\"Genre\" not in keys)\n",
        "\n",
        "      searched_values[i] = get_data_from_web(df.loc[idx].Name,\n",
        "                                            Year = Year,\n",
        "                                            Publisher = Publisher,\n",
        "                                            Genre = Genre,\n",
        "                                            Debug=True,\n",
        "                                            return_value = searched_values[i][1])\n",
        "\n",
        "    print(\"\")\n",
        "  return searched_values"
      ],
      "metadata": {
        "id": "kQKkmL9AJySB"
      },
      "execution_count": null,
      "outputs": []
    },
    {
      "cell_type": "markdown",
      "source": [
        "#### nan을 가진 인덱스로부터 nan 값에 해당하는 값을 크롤링\n",
        "\n",
        "- 에러가 나는 항목은 해당 사이트에서 찾을 수 없는 데이터"
      ],
      "metadata": {
        "id": "zbh8PolAJ73f"
      }
    },
    {
      "cell_type": "code",
      "source": [
        "searched_values = find_missing_value([], nan_idx)"
      ],
      "metadata": {
        "id": "XFFuysA-tOrd",
        "colab": {
          "base_uri": "https://localhost:8080/"
        },
        "outputId": "1150ee36-8939-4f4b-ca4a-35adb9a5e84d"
      },
      "execution_count": null,
      "outputs": [
        {
          "output_type": "stream",
          "name": "stdout",
          "text": [
            "0 31 Rock Band  Year : 2007 \n",
            "1 50 Ape Escape: On the Loose https://www.vgchartz.com/game/39001/ape-escape-on-the-loose/?region=All  Genre : Platform \n",
            "2 109 Yu-Gi-Oh! 5D's Wheelie Breakers (JP sales)  Year : 2009 \n",
            "3 272 UK Truck Simulator  Publisher : Excalibur Publishing \n",
            "4 273 Jewel Link Chronicles: Mountains of Madness  Year : 2012 \n",
            "5 358 Majesty 2: The Fantasy Kingdom Sim  Year : 2009 \n",
            "6 408 NBA Ballers https://www.vgchartz.com/game/1509/nba-ballers/?region=All  Genre : Sports \n",
            "7 430 Famista 64 https://www.vgchartz.com/game/3272/famista-64/?region=All  Year : 1997 \n",
            "8 548 Transworld Surf  Year : 2002 \n",
            "9 675 Battle vs. Chess Exception type : UnboundLocalError \n",
            "Exception message : local variable 'game_info_url' referenced before assignment\n",
            "Stack trace : ['File : <ipython-input-3-adfb243c89e3> , Line : 140, Func.Name : get_data_from_web, Message : print(game_info_url, end=\" \")']\n",
            "\n",
            "10 808 Major League Baseball 2K6  Year : 2006 \n",
            "11 818 Twisted Metal: Small Brawl  Year : 2001 \n",
            "12 952 Tiger Woods PGA Tour 07  Year : 2006 \n",
            "13 1011 Tribes: Aerial Assault  Year : 2002 \n",
            "14 1041 Metal Gear Solid 2: Substance  Year : 2002 \n",
            "15 1093 Star Trek: Legacy  Year : 2006 \n",
            "16 1235 My Healthy Cooking Coach  Year : 2009 \n",
            "17 1285 Mega Man X Collection  Year : 2006 \n",
            "18 1301 Move Fitness  Year : 2013 \n",
            "19 1313 All Grown Up!: Game Boy Advance Video Volume 1  Publisher : Majesco \n",
            "20 1328 NFL Street https://www.vgchartz.com/game/5514/nfl-street/?region=All  Genre : Sports \n",
            "21 1509 Flip's Twisted World  Year : 2010 \n",
            "22 1523 Super Puzzle Fighter II  Year : 2003 \n",
            "23 1534 Luminous Arc 2 (JP sales)  Year : 2008 \n",
            "24 1560 Teenage Mutant Ninja Turtles: Game Boy Advance Video Volume 1  Publisher : Majesco \n",
            "25 1572 Tomb Raider (2013)  Year : 2013 \n",
            "26 1582 SingStar Singalong With Disney https://www.vgchartz.com/game/26762/singstar-singalong-with-disney/?region=All  Genre : Misc \n",
            "27 1613 Street Fighter IV  Year : 2009 \n",
            "28 1789 Nicktoons Collection: Game Boy Advance Video Volume 2  Publisher : Majesco \n",
            "29 1796 Agarest Senki: Re-appearance https://www.vgchartz.com/game/29410/agarest-senki-re-appearance/?region=All  Year : 2007 \n",
            "30 1879 Monster Hunter Frontier Online  Year : 2010  Publisher : Capcom \n",
            "31 1884 Harvest Moon: Save the Homeland  Year : 2001 \n",
            "32 1903 NHL Hitz Pro  Year : 2003 \n",
            "33 1961 Nicktoons Collection: Game Boy Advance Video Volume 1  Publisher : Majesco \n",
            "34 1971 Pokemon X/Pokemon Y not ok\n",
            "Exception type : UnboundLocalError \n",
            "Exception message : local variable 'game_info_url' referenced before assignment\n",
            "Stack trace : ['File : <ipython-input-3-adfb243c89e3> , Line : 140, Func.Name : get_data_from_web, Message : print(game_info_url, end=\" \")']\n",
            "\n",
            "35 2026 Final Fantasy XI Exception type : UnboundLocalError \n",
            "Exception message : local variable 'game_info_url' referenced before assignment\n",
            "Stack trace : ['File : <ipython-input-3-adfb243c89e3> , Line : 140, Func.Name : get_data_from_web, Message : print(game_info_url, end=\" \")']\n",
            "\n",
            "36 2043 NASCAR Racing https://www.vgchartz.com/game/16647/nascar-racing/?region=All  Genre : Racing \n",
            "37 2056 The Golden Compass  Year : 2007 \n",
            "38 2062 Shorts  Year : 2009 \n",
            "39 2070 World of Tanks  Year : 2011  Publisher : Wargaming.net \n",
            "40 2130 Call of Duty 3  Year : 2006 \n",
            "41 2142 Madden NFL 06  Year : 2005 \n",
            "42 2202 Dinotopia: The Sunstone Odyssey  Year : 2003 \n",
            "43 2270 Virtua Quest  Year : 2005 \n",
            "44 2337 Captain America: Super Soldier  Year : 2011 \n",
            "45 2408 Writing and Speaking Beautiful Japanese DS Exception type : UnboundLocalError \n",
            "Exception message : local variable 'game_info_url' referenced before assignment\n",
            "Stack trace : ['File : <ipython-input-3-adfb243c89e3> , Line : 140, Func.Name : get_data_from_web, Message : print(game_info_url, end=\" \")']\n",
            "\n",
            "46 2478 Disney's Chicken Little: Ace In Action  Year : 2006 \n",
            "47 2492 Madden NFL 2002  Year : 2001 \n",
            "48 2497 Jurassic Park III: Island Attack https://www.vgchartz.com/game/15096/jurassic-park-iii-island-attack/?region=All  Genre : Adventure \n",
            "49 2527 Maze Craze: A Game of Cops 'n Robbers  Year : 1978 \n",
            "50 2545 Sabre Wulf  Year : 2004 \n",
            "51 2552 The Golden Compass  Year : 2007 \n",
            "52 2824 Alone in the Dark: The New Nightmare  Year : 2001 \n",
            "53 2934 Disney's Cinderella: Magical Dreams  Year : 2005 \n",
            "54 2970 Chou Soujuu Mecha MG  Year : 2006  Publisher : Nintendo \n",
            "55 3031 Donkey Kong Land III  Year : 1997 \n",
            "56 3069 Rayman Arena  Year : 2002 \n",
            "57 3135 eJay Clubworld  Year : 2003 \n",
            "58 3182 Danganronpa: Trigger Happy Havoc  Year : 2016 \n",
            "59 3184 Action Man-Operation Extreme  Publisher : Exception type : UnboundLocalError \n",
            "Exception message : local variable 'publisher' referenced before assignment\n",
            "Stack trace : [\"File : <ipython-input-3-adfb243c89e3> , Line : 110, Func.Name : get_data_from_web, Message : print(publisher, end = ' ')\"]\n",
            "\n",
            "60 3187 Jet Impulse https://www.vgchartz.com/game/3536/jet-impulse/?region=All  Year : 2007 \n",
            "61 3238 Football Manager 2007  Year : 2006 \n",
            "62 3291 The Chronicles of Narnia: The Lion, The Witch and The Wardrobe  Year : 2005 \n",
            "63 3347 LEGO Batman: The Videogame  Year : 2008 \n",
            "64 3353 The Godfather: Dons Edition https://www.vgchartz.com/game/6143/the-godfather-dons-edition/?region=All  Genre : Action \n",
            "65 3363 Ski-Doo Snowmobile Challenge not ok\n",
            "https://www.vgchartz.com/game/32535/ski-doo-snowmobile-challenge/?region=All  Genre : Racing \n",
            "66 3407 Major League Baseball 2K8  Year : 2008 \n",
            "67 3412 Dance with Devils  Publisher : Rejet \n",
            "68 3470 Batman Beyond: Return of the Joker https://www.vgchartz.com/game/23297/batman-beyond-return-of-the-joker/?region=All  Genre : Action \n",
            "69 3515 Princess Saver! Eternal Love for My Lady https://www.vgchartz.com/game/40652/princess-saver-eternal-love-for-my-lady/?region=All  Genre : Adventure \n",
            "70 3533 B.L.U.E.: Legend of Water  Year : 1998  Publisher : Hudson Soft \n",
            "71 3562 wwe Smackdown vs. Raw 2006  Year : 2005  Publisher : THQ \n",
            "72 3605 TERA  Year : 2070 \n",
            "73 3639 Homeworld Remastered Collection  Year : 2015  Publisher : Gearbox Software \n",
            "74 3684 Dragon Ball GT: Game Boy Advance Video Volume 1  Publisher : Majesco \n",
            "75 3811 Shonen Jump's Yu-Gi-Oh! GX Card Almanac https://www.vgchartz.com/game/7191/shonen-jumps-yu-gi-oh-gx-card-almanac/?region=All  Year : 2007 \n",
            "76 3832 Pac-Man Fever  Year : 2002 \n",
            "77 3841 Street Hoops  Year : 2002 \n",
            "78 3895 WRC: FIA World Rally Championship  Year : 2006 \n",
            "79 3932 MVP Baseball 2004 https://www.vgchartz.com/game/37038/mvp-baseball-2004/?region=All  Genre : Sports \n",
            "80 3942 Legacy of Kain: Soul Reaver  Year : 1999 \n",
            "81 4124 WRC: FIA World Rally Championship  Year : 2006 \n",
            "82 4148 Grand Theft Auto IV https://www.vgchartz.com/game/7102/grand-theft-auto-iv/?region=All  Genre : Action \n",
            "83 4165 Namco Museum  Year : 2001 \n",
            "84 4181 Rock Band  Year : 2007 \n",
            "85 4196 Test Drive Unlimited 2  Year : 2011 \n",
            "86 4230 Sega Rally 2006 https://www.vgchartz.com/game/4270/sega-rally-2006/?region=All  Year : 2006 \n",
            "87 4238 Rock Revolution  Year : 2008 \n",
            "88 4255 Shaun White Snowboarding not ok\n",
            " Year : 2008 \n",
            "89 4308 Umineko no Naku Koro ni San: Shinjitsu to Gensou no Yasoukyoku  Year : 2011  Publisher : Alchemist \n",
            "90 4349 Brain Quest: Grades 5 & 6 https://www.vgchartz.com/game/25867/brain-quest-grades-5-amp-6/?region=All  Genre : Misc \n",
            "91 4367 Strawberry Shortcake: Game Boy Advance Video Volume 1  Publisher : Majesco \n",
            "92 4488 The Lord of the Rings: War in the North  Year : 2011 \n",
            "93 4497 Pet Zombies  Year : 2011 \n",
            "94 4501 WCW Backstage Assault  Year : 2000 \n",
            "95 4511 Swords  Year : 2010 \n",
            "96 4521 Ghostbusters II  Year : 2070 \n",
            "97 4545 Dragon Ball Z: Ultimate Tenkaichi https://www.vgchartz.com/game/52773/dragon-ball-z-ultimate-tenkaichi/?region=All  Genre : Fighting \n",
            "98 4598 Wii Party https://www.vgchartz.com/game/45079/wii-party/?region=All  Genre : Misc \n",
            "99 4608 Bejeweled 3  Year : 2011 \n",
            "100 4617 Hangman  Year : 1978 \n",
            "101 4714 Charm Girls Club: My Fashion Show  Year : 2009 \n",
            "102 4865 Beyond the Labyrinth https://www.vgchartz.com/game/50960/beyond-the-labyrinth/?region=All  Year : 2012 \n",
            "103 4911 Dream Trigger 3D  Year : 2011 \n",
            "104 4935 Astonishia Story https://www.vgchartz.com/game/29663/astonishia-story/?region=All  Genre : Role-Playing \n",
            "105 5055 Demon Chaos https://www.vgchartz.com/game/3501/demon-chaos/?region=All  Year : 2005 \n",
            "106 5140 BioShock 2  Year : 2010 \n",
            "107 5144 Yakuza 4  Year : 2011 \n",
            "108 5160 Harvest Moon: The Tale of Two Towns  Year : 2011 \n",
            "109 5175 Dance! It's Your Stage  Year : 2011 \n",
            "110 5207 Cartoon Network Collection: Game Boy Advance Video Platinum Edition  Publisher : Majesco \n",
            "111 5230 Circus Atari  Year : 1978 \n",
            "112 5245 Cartoon Network Collection: Game Boy Advance Video Special Edition  Publisher : Majesco \n",
            "113 5309 LEGO Harry Potter: Years 5-7  Year : 2011 \n",
            "114 5387 Moshi, Kono Sekai ni Kami-sama ga Iru to suru Naraba.  Publisher : Rejet \n",
            "115 5668 Chrono Cross https://www.vgchartz.com/game/49136/chrono-cross/?region=All  Genre : Role-Playing \n",
            "116 5674 Hitman 2: Silent Assassin  Year : 2002 \n",
            "117 5713 Back to the Future: The Game https://www.vgchartz.com/game/48201/back-to-the-future-the-game/?region=All  Genre : Adventure \n",
            "118 5720 Adventure  Year : 1978 \n",
            "119 5728 Nintendo Puzzle Collection https://www.vgchartz.com/game/3931/nintendo-puzzle-collection/?region=All  Year : 2003 \n",
            "120 5757 Samurai Shodown Anthology  Year : 2009 \n",
            "121 5945 Medabots: Metabee Exception type : UnboundLocalError \n",
            "Exception message : local variable 'game_info_url' referenced before assignment\n",
            "Stack trace : ['File : <ipython-input-3-adfb243c89e3> , Line : 140, Func.Name : get_data_from_web, Message : print(game_info_url, end=\" \")']\n",
            "\n",
            "122 5957 Rocksmith  Year : 2011 \n",
            "123 5994 Samurai Spirits: Tenkaichi Kenkakuden https://www.vgchartz.com/game/4234/samurai-spirits-tenkaichi-kenkakuden/?region=All  Year : 2006 \n",
            "124 6118 Wheel of Fortune  Year : 1998 \n",
            "125 6152 Mobile Ops: The One Year War https://www.vgchartz.com/game/24246/mobile-ops-the-one-year-war/?region=All  Year : 2008 \n",
            "126 6178 Record of Agarest War Zero  Year : 2011 \n",
            "127 6209 Atsumare! Power Pro Kun no DS Koushien  Year : 2006  Publisher : Konami \n",
            "128 6223 Rock Revolution  Year : 2008 \n",
            "129 6257 Combat Elite: WWII Paratroopers  Year : 2005 \n",
            "130 6288 Home Run  Year : 1978 \n",
            "131 6318 Legacy of Ys: Books I & II  Year : 2009 \n",
            "132 6354 GRID not ok\n",
            " Year : 2008 \n",
            "133 6375 Backbreaker  Year : 2010 \n",
            "134 6385 Dead Island: Riptide  Year : 2013 \n",
            "135 6392 Brothers in Arms: Furious 4  Year : 2012  Publisher : Ubisoft \n",
            "136 6512 Happy Feet Two  Year : 2011 \n",
            "137 6575 Fishing Derby  Year : 1980 \n",
            "138 6623 Unreal Championship 2: The Liandri Conflict  Year : 2005 \n",
            "139 6779 Shrek the Third  Year : 2007 \n",
            "140 6798 UFO: Trilogy https://www.vgchartz.com/game/62447/ufo-trilogy/?region=All  Genre : Role-Playing \n",
            "141 6949 Madden NFL 2004  Year : 2003 \n",
            "142 7008 College Hoops 2K6  Year : 2005 \n",
            "143 7131 WRC: FIA World Rally Championship  Year : 2006 \n",
            "144 7143 Largo Winch .// Commando Sar https://www.vgchartz.com/game/26044/largo-winch-commando-sar/?region=All  Genre : Adventure \n",
            "145 7150 Aquaman: Battle for Atlantis  Year : 2003 \n",
            "146 7336 Madden NFL 11 https://www.vgchartz.com/game/43466/madden-nfl-11/?region=All  Genre : Sports \n",
            "147 7370 Stronghold 3  Publisher : SouthPeak Interactive \n",
            "148 7526 Ukiyo no Shishi https://www.vgchartz.com/game/85159/ukiyo-no-shishi/?region=All  Genre : Action-Adventure \n",
            "149 7619 The Smurfs  Year : 2011 \n",
            "150 7682 MLB SlugFest 20-03  Year : 2002 \n",
            "151 7686 Drill Dozer  Year : 2006 \n",
            "152 7713 Our House Party!  Year : 2009 \n",
            "153 7774 Saint  Year : 2009 \n",
            "154 7792 Mountain Bike Adrenaline  Year : 2007 \n",
            "155 7797 Myth Makers: Orbs of Doom https://www.vgchartz.com/game/34535/myth-makers-orbs-of-doom/?region=All  Genre : Puzzle \n",
            "156 7847 Egg Monster Hero https://www.vgchartz.com/game/3204/egg-monster-hero/?region=All  Year : 2005 \n",
            "157 7984 Disney Channel Collection Vol. 1  Publisher : Majesco \n",
            "158 8038 Super Robot Monkey Team: Game Boy Advance Video Volume 1  Publisher : Majesco \n",
            "159 8055 Wii de Asobu: Metroid Prime https://www.vgchartz.com/game/27348/wii-de-asobu-metroid-prime/?region=All  Year : 2009 \n",
            "160 8076 Happy Feet Two  Year : 2011 \n",
            "161 8236 Bentley's Hackpack  Publisher : Sony Computer Entertainment \n",
            "162 8244 Payout Poker & Casino  Year : 2006 \n",
            "163 8333 Splatterhouse  Year : 2010 \n",
            "164 8350 Jet X20  Year : 2002 \n",
            "165 8355 Cartoon Network Collection: Game Boy Advance Video Volume 2  Publisher : Majesco \n",
            "166 8422 Reader Rabbit 2nd Grade  Year : 2010 \n",
            "167 8470 Jurassic Park: The Game  Year : 2011 \n",
            "168 8525 Half-Minute Hero 2  Year : 2014 \n",
            "169 8529 LEGO Indiana Jones: The Original Adventures  Year : 2008 \n",
            "170 8546 Build-A-Bear Workshop: Friendship Valley  Year : 2010 \n",
            "171 8600 Wet  Year : 2009 \n",
            "172 8638 Port Royale 3 not ok\n",
            " Year : 2012 \n",
            "173 8651 Sonic the Hedgehog  Year : 1991  Publisher : Sega \n",
            "174 8812 Combat Elite: WWII Paratroopers  Year : 2005 \n",
            "175 8849 Vegas Party  Year : 2009 \n",
            "176 8873 Legends of Oz: Dorothy's Return  Publisher : GameMill \n",
            "177 9016 Disgaea 3: Absence of Detention  Year : 2012 \n",
            "178 9082 Big Beach Sports 2  Year : 2010 \n",
            "179 9128 The Fairly Odd Parents: Game Boy Advance Video Volume 1  Publisher : Majesco \n",
            "180 9240 LEGO Harry Potter: Years 5-7  Year : 2011 \n",
            "181 9298 Battle vs. Chess Exception type : UnboundLocalError \n",
            "Exception message : local variable 'game_info_url' referenced before assignment\n",
            "Stack trace : ['File : <ipython-input-3-adfb243c89e3> , Line : 140, Func.Name : get_data_from_web, Message : print(game_info_url, end=\" \")']\n",
            "\n",
            "182 9488 Final Fantasy XII https://www.vgchartz.com/game/765/final-fantasy-xii/?region=All  Genre : Role-Playing \n",
            "183 9577 Jonah Lomu Rugby Challenge  Year : 2011 \n",
            "184 9640 Cubix Robots for Everyone: Clash 'n' Bash  Year : 2002 \n",
            "185 9684 Dragon Ball Z: Budokai Tenkaichi 2 (JP sales)  Publisher : Unknown https://www.vgchartz.com/game/49822/dragon-ball-z-budokai-tenkaichi-2-jp-sales/?region=All  Year : Exception type : ValueError \n",
            "Exception message : min() arg is an empty sequence\n",
            "Stack trace : ['File : <ipython-input-3-adfb243c89e3> , Line : 169, Func.Name : get_data_from_web, Message : year = get_year(str(min([int(y_[-2:]) for y_ in years_])))']\n",
            "\n",
            "186 9698 Def Jam: Fight for NY  Year : 2004 \n",
            "187 9762 LEGO Harry Potter: Years 5-7  Year : 2011 \n",
            "188 9877 Mario Tennis  Year : 1995  Publisher : Nintendo \n",
            "189 9920 Super Breakout  Year : 1978 \n",
            "190 9958 LEGO Batman: The Videogame  Year : 2008 \n",
            "191 10032 Robotech: Battlecry  Year : 2002 \n",
            "192 10084 Advance Wars: Days of Ruin  Year : 2008 \n",
            "193 10092 Sword of the Samurai  Year : 1990 \n",
            "194 10094 Mega Man Battle Network: Operation Shooting Star https://www.vgchartz.com/game/38310/mega-man-battle-network-operation-shooting-star/?region=All  Year : 2009 \n",
            "195 10119 Tropico 4 not ok\n",
            " Year : 2011 \n",
            "196 10144 Star Wars Jedi Knight II: Jedi Outcast  Year : 2003 \n",
            "197 10156 The Legend of Zelda: The Minish Cap(weekly JP sales)  Publisher : Exception type : UnboundLocalError \n",
            "Exception message : local variable 'publisher' referenced before assignment\n",
            "Stack trace : [\"File : <ipython-input-3-adfb243c89e3> , Line : 110, Func.Name : get_data_from_web, Message : print(publisher, end = ' ')\"]\n",
            "\n",
            "198 10223 Demolition Company: Gold Edition  Publisher : Unknown \n",
            "199 10269 Bejeweled 3  Year : 2011 \n",
            "200 10301 Madden NFL 07  Year : 2006 \n",
            "201 10321 LEGO Harry Potter: Years 5-7  Year : 2011 \n",
            "202 10324 DanceDanceRevolution II  Year : 2011 \n",
            "203 10327 Tony Hawk's Downhill Jam  Year : 2006 \n",
            "204 10346 LEGO Harry Potter: Years 5-7  Year : 2011 \n",
            "205 10431 The Dukes of Hazzard II: Daisy Dukes It Out  Year : 2000 \n",
            "206 10432 The Mummy: Tomb of the Dragon Emperor https://www.vgchartz.com/game/22521/the-mummy-tomb-of-the-dragon-emperor/?region=All  Genre : Adventure \n",
            "207 10501 Bakemonogatari Portable https://www.vgchartz.com/game/70922/bakemonogatari-portable/?region=All  Genre : Visual Novel \n",
            "208 10534 Backbreaker  Year : 2010 \n",
            "209 10563 LEGO Harry Potter: Years 5-7  Year : 2011 \n",
            "210 10637 PDC World Championship Darts 2008  Year : 2009 \n",
            "211 10719 National Geographic Challenge!  Year : 2011 \n",
            "212 10775 Dead Space 3  Year : 2013 \n",
            "213 10776 Rock Band  Year : 2007 \n",
            "214 10841 Combat Wings: The Great Battles of WWII  Year : 2012 \n",
            "215 10874 Karaoke Revolution Glee: Volume 3 https://www.vgchartz.com/game/70134/karaoke-revolution-glee-volume-3/?region=All  Genre : Misc \n",
            "216 10896 All-Star Baseball 2005  Year : 2004 \n",
            "217 10915 Tom and Jerry in War of the Whiskers  Year : 2002 \n",
            "218 10965 FIFA Soccer 2004  Year : 2003 \n",
            "219 11050 Puppy Palace not ok\n",
            "https://www.vgchartz.com/game/15079/puppy-palace/?region=All  Genre : Simulation \n",
            "220 11063 Yakuza 3 https://www.vgchartz.com/game/26680/yakuza-3/?region=All  Genre : Adventure \n",
            "221 11125 Dragster  Year : 1980 \n",
            "222 11145 Inversion  Year : 2012 \n",
            "223 11188 Get Fit with Mel B  Year : 2010 \n",
            "224 11193 Alex Rider: Stormbreaker  Year : 2006 \n",
            "225 11268 Cloudy With a Chance of Meatballs https://www.vgchartz.com/game/38349/cloudy-with-a-chance-of-meatballs/?region=All  Genre : Adventure \n",
            "226 11309 Triple Play 99  Year : 1998  Publisher : EA Sports \n",
            "227 11316 Air-Sea Battle  Year : 1977 \n",
            "228 11332 The History Channel: Great Battles - Medieval  Year : 2011 \n",
            "229 11386 NFL GameDay 2003  Year : 2002 \n",
            "230 11405 Gun  Year : 2005 \n",
            "231 11476 Cabela's Alaskan Adventure  Year : 2006 \n",
            "232 11496 F-Zero X https://www.vgchartz.com/game/227231/f-zero-x/?region=All  Genre : Racing \n",
            "233 11498 Nicktoons Collection: Game Boy Advance Video Volume 3  Publisher : Majesco \n",
            "234 11508 NBA Live 2003  Year : 2002 \n",
            "235 11584 Saru! Get You! Million Monkeys  Year : 2016 \n",
            "236 11605 Godzilla: Destroy All Monsters Melee  Year : 2002 \n",
            "237 11641 AKB1/48: Idol to Guam de Koishitara...  Year : 2011  Publisher : Namco Bandai \n",
            "238 11658 The Hidden  Year : 2011 \n",
            "239 11665 The Lord of the Rings: War in the North  Year : 2011 \n",
            "240 11668 The History Channel: Battle for the Pacific https://www.vgchartz.com/game/13650/the-history-channel-battle-for-the-pacific/?region=All  Genre : Shooter \n",
            "241 11676 Farming Simulator 2011  Publisher : Unknown \n",
            "242 11699 Time Travelers https://www.vgchartz.com/game/68363/time-travelers/?region=All  Genre : Adventure \n",
            "243 11711 Hakuouki: Shinsengumi Kitan Exception type : UnboundLocalError \n",
            "Exception message : local variable 'game_info_url' referenced before assignment\n",
            "Stack trace : ['File : <ipython-input-3-adfb243c89e3> , Line : 140, Func.Name : get_data_from_web, Message : print(game_info_url, end=\" \")']\n",
            "\n",
            "244 11754 Face Racers: Photo Finish  Year : 2011 \n",
            "245 11764 Charm Girls Club: My Fashion Mall  Year : 2009 \n",
            "246 11837 Slot Machine  Year : 1979 \n",
            "247 12088 NBA Live 2003  Year : 2002 \n",
            "248 12111 Ferrari: The Race Experience  Year : 2011 \n",
            "249 12126 Silverlicious  Publisher : GameMill \n",
            "250 12176 Dora the Explorer: Game Boy Advance Video Volume 1  Publisher : Majesco \n",
            "251 12307 Port Royale 3  Year : 2012 \n",
            "252 12314 Ice Hockey https://www.vgchartz.com/game/78956/ice-hockey/?region=All  Genre : Misc \n",
            "253 12324 Star Trek: Conquest  Year : 2007 \n",
            "254 12331 Onimusha: Warlords https://www.vgchartz.com/game/223270/onimusha-warlords/?region=All  Genre : Action-Adventure \n",
            "255 12340 Virtual Chess 64 https://www.vgchartz.com/game/2615/virtual-chess-64/?region=All  Genre : Misc \n",
            "256 12355 Fullmetal Alchemist: Brotherhood https://www.vgchartz.com/game/37307/fullmetal-alchemist-brotherhood/?region=All  Year : 2009 \n",
            "257 12390 WarioWare: Twisted!  Year : 2005 \n",
            "258 12417 Silent Hill: Homecoming not ok\n",
            " Year : 2008 \n",
            "259 12468 The Fairly Odd Parents: Game Boy Advance Video Volume 2  Publisher : Majesco \n",
            "260 12536 The Chronicles of Riddick: Escape from Butcher Bay  Year : 2004 \n",
            "261 12560 SpongeBob SquarePants: Game Boy Advance Video Volume 3  Publisher : Majesco \n",
            "262 12616 Flag Capture  Year : 1978 \n",
            "263 12703 Robert Ludlum's The Bourne Conspiracy  Year : 2008 \n",
            "264 12710 Happy Feet Two  Year : 2011 \n",
            "265 12787 NASCAR: Dirt to Daytona  Year : 2002 \n",
            "266 12799 GiFTPiA https://www.vgchartz.com/game/3408/giftpia/?region=All  Year : 2003 \n",
            "267 12816 NBA Street Vol. 2  Year : 2003 \n",
            "268 12858 Rock Band  Year : 2007 \n",
            "269 12870 PQ2: Practical Intelligence Quotient https://www.vgchartz.com/game/28529/pq2-practical-intelligence-quotient/?region=All  Genre : Puzzle \n",
            "270 12900 SpongeBob SquarePants: Game Boy Advance Video Volume 1  Publisher : Majesco \n",
            "271 12982 Urban Chaos https://www.vgchartz.com/game/2581/urban-chaos/?region=All  Genre : Action \n",
            "272 12986 Call of Duty: Black Ops  Year : 2010 \n",
            "273 13162 Otomedius Excellent  Year : 2011 \n",
            "274 13182 Sonic X: Game Boy Advance Video Volume 1  Publisher : Majesco \n",
            "275 13187 The Daring Game for Girls  Year : 2010 \n",
            "276 13190 Valkyria Chronicles III: Unrecorded Chronicles  Year : 2070 \n",
            "277 13204 Xia-Xia  Publisher : GameMill \n",
            "278 13256 Test Drive Unlimited 2  Year : 2011 \n",
            "279 13327 Frogger's Adventures: Temple of the Frog  Year : 2001 \n",
            "280 13348 Treasure Report: Kikai Jikake no Isan https://www.vgchartz.com/game/50319/treasure-report-kikai-jikake-no-isan/?region=All  Genre : Adventure \n",
            "281 13357 Test Drive Unlimited 2  Year : 2011 \n",
            "282 13406 Trauma Team  Year : 2010 \n",
            "283 13450 Bikkuriman Daijiten not ok\n",
            " Year : 2007  Publisher : 3 O'Clock \n",
            "284 13488 GRID  Year : 2008 \n",
            "285 13583 The Chronicles of Narnia: The Lion, The Witch and The Wardrobe  Year : 2005 \n",
            "286 13589 Zero: Tsukihami no Kamen https://www.vgchartz.com/game/7700/zero-tsukihami-no-kamen/?region=All  Year : 2008 \n",
            "287 13628 McFarlane's Evil Prophecy  Year : 2004 \n",
            "288 13656 NHL Slapshot  Year : 2010 \n",
            "289 13678 Custom Robo  Year : 2004 \n",
            "290 13734 Singularity  Year : 2010 \n",
            "291 13752 NASCAR Thunder 2003  Year : 2002 \n",
            "292 13766 Housekeeping  Year : 2006  Publisher : IE Institute \n",
            "293 13810 Pokémon: Johto Photo Finish: Game Boy Advance Video  Publisher : Majesco \n",
            "294 13837 Cartoon Network Collection: Game Boy Advance Video Volume 1  Publisher : Majesco \n",
            "295 13844 Luxor: Pharaoh's Challenge  Year : 2008 \n",
            "296 13889 Super Duper Sumos  Year : 2003 \n",
            "297 13902 Indy 500  Year : 1977 \n",
            "298 13923 Prinny: Can I Really Be The Hero? (US sales)  Year : 2009  Publisher : NIS America \n",
            "299 13954 Clockwork Empires Exception type : UnboundLocalError \n",
            "Exception message : local variable 'game_info_url' referenced before assignment\n",
            "Stack trace : ['File : <ipython-input-3-adfb243c89e3> , Line : 140, Func.Name : get_data_from_web, Message : print(game_info_url, end=\" \")']\n",
            "\n",
            "300 14003 RollerCoaster Tycoon  Year : 1999 \n",
            "301 14012 The King of Fighters: Maximum Impact - Maniax  Year : 2005 \n",
            "302 14049 Monster Hunter 2  Year : 2006 \n",
            "303 14050 Breakaway IV  Year : 1978 \n",
            "304 14119 All-Star Baseball 2005  Year : 2004 \n",
            "305 14292 Tom Clancy's Rainbow Six: Critical Hour  Year : 2006 \n",
            "306 14303 Captain America: Super Soldier  Year : 2011 \n",
            "307 14383 Thomas the Tank Engine & Friends  Publisher : THQ \n",
            "308 14436 PDC World Championship Darts 2008  Year : 2009 \n",
            "309 14474 Driving Simulator 2011  Publisher : Excalibur Publishing \n",
            "310 14580 Rhythm Heaven  Year : 2009 \n",
            "311 14585 Suikoden III  Year : 2002 \n",
            "312 14622 Robert Ludlum's The Bourne Conspiracy  Year : 2008 \n",
            "313 14765 Combat  Year : 1977 \n",
            "314 14828 Codename: Kids Next Door: Game Boy Advance Video Volume 1  Publisher : Majesco \n",
            "315 14911 Tornado  Year : 2008 \n",
            "316 14930 Skylanders Giants https://www.vgchartz.com/game/71072/skylanders-giants/?region=All  Genre : Misc \n",
            "317 14941 The Daring Game for Girls  Year : 2010 \n",
            "318 14968 PES 2009: Pro Evolution Soccer  Year : 2008 \n",
            "319 15001 Teen Titans  Year : 2006 \n",
            "320 15013 Silent Hill: Homecoming  Year : 2008 \n",
            "321 15051 Steal Princess  Year : 2009 \n",
            "322 15063 Drake of the 99 Dragons  Year : 2003 \n",
            "323 15077 Myth Makers: Super Kart GP https://www.vgchartz.com/game/34536/myth-makers-super-kart-gp/?region=All  Genre : Racing \n",
            "324 15093 Tube Slider  Year : 2003 \n",
            "325 15147 Nicktoons: Battle for Volcano Island  Year : 2006 \n",
            "326 15151 SpongeBob SquarePants: Game Boy Advance Video Volume 2  Publisher : Majesco \n",
            "327 15211 James Bond 007: Nightfire https://www.vgchartz.com/game/29270/james-bond-007-nightfire/?region=All  Genre : Shooter \n",
            "328 15216 Haven: Call of the King  Year : 2002 \n",
            "329 15317 LEGO Harry Potter: Years 5-7 not ok\n",
            " Year : 2011 \n",
            "330 15332 Happy Feet Two  Year : 2011 \n",
            "331 15368 Shrek / Shrek 2 2-in-1 Gameboy Advance Video  Publisher : Majesco \n",
            "332 15402 James Cameron's Dark Angel  Year : 2002 \n",
            "333 15406 NBA Starting Five  Year : 2002 \n",
            "334 15411 Tour de France 2011 https://www.vgchartz.com/game/53231/tour-de-france-2011/?region=All  Year : Exception type : ValueError \n",
            "Exception message : min() arg is an empty sequence\n",
            "Stack trace : ['File : <ipython-input-3-adfb243c89e3> , Line : 169, Func.Name : get_data_from_web, Message : year = get_year(str(min([int(y_[-2:]) for y_ in years_])))']\n",
            "\n",
            "335 15426 WarioWare, Inc.: Mega Party Game$ https://www.vgchartz.com/game/2635/warioware-inc-mega-party-game/?region=All  Genre : Puzzle \n",
            "336 15499 Smashing Drive  Year : 2002 \n",
            "337 15526 Bloodborne https://www.vgchartz.com/game/82937/bloodborne/?region=All  Genre : Role-Playing \n",
            "338 15655 Runaway: A Twist of Fate  Year : 2009 \n",
            "339 15669 Yu Yu Hakusho: Dark Tournament  Publisher : Unknown https://www.vgchartz.com/game/65344/yu-yu-hakusho-dark-tournament/?region=All  Year : Exception type : ValueError \n",
            "Exception message : min() arg is an empty sequence\n",
            "Stack trace : ['File : <ipython-input-3-adfb243c89e3> , Line : 169, Func.Name : get_data_from_web, Message : year = get_year(str(min([int(y_[-2:]) for y_ in years_])))']\n",
            "\n",
            "340 15776 Without Warning  Year : 2005 \n",
            "341 15805 Dream Dancer  Publisher : Unknown https://www.vgchartz.com/game/37456/dream-dancer/?region=All  Year : Exception type : ValueError \n",
            "Exception message : min() arg is an empty sequence\n",
            "Stack trace : ['File : <ipython-input-3-adfb243c89e3> , Line : 169, Func.Name : get_data_from_web, Message : year = get_year(str(min([int(y_[-2:]) for y_ in years_])))']\n",
            "\n",
            "342 15897 Virtua Quest  Year : 2005 \n",
            "343 16053 Karate  Year : 1980 \n",
            "344 16067 Bound By Flame  Publisher : Focus Home Interactive \n",
            "345 16091 Brain Boost: Beta Wave https://www.vgchartz.com/game/249/brain-boost-beta-wave/?region=All  Genre : Puzzle \n",
            "346 16130 Super Robot Wars OG Saga: Masou Kishin II - Revelation of Evil God  Year : 2012  Publisher : Namco Bandai Games \n",
            "347 16195 Singularity  Year : 2010 \n",
            "348 16240 Freaky Flyers  Year : 2003 \n",
            "349 16275 Space Invaders  Year : 1978 \n",
            "350 16278 Madden NFL 11  Year : 2010 \n",
            "351 16425 Yoostar on MTV not ok\n",
            " Year : 2011 \n",
            "352 16431 Cars: Mater-National Championship https://www.vgchartz.com/game/21937/cars-mater-national-championship/?region=All  Genre : Racing \n",
            "353 16432 Bejeweled 3  Year : 2011 \n",
            "354 16555 Apache: Air Assault https://www.vgchartz.com/game/70268/apache-air-assault/?region=All  Genre : Simulation \n",
            "355 16587 Need for Speed Underground 2 https://www.vgchartz.com/game/25611/need-for-speed-underground-2/?region=All  Genre : Racing \n"
          ]
        }
      ]
    },
    {
      "cell_type": "markdown",
      "source": [
        "#### 연결 불량등 Time out의 이유로 데이터를 추출하지 못하는 경우 및 다른 이유로 데이터를 추출하지 못한 데이터를 재획득"
      ],
      "metadata": {
        "id": "AWajWXazKQ26"
      }
    },
    {
      "cell_type": "code",
      "source": [
        "searched_values_ = searched_values.copy()"
      ],
      "metadata": {
        "id": "d6S6dIGrsWfh"
      },
      "execution_count": null,
      "outputs": []
    },
    {
      "cell_type": "code",
      "source": [
        "for i, value in enumerate(searched_values_):\n",
        "\n",
        "  if not value[1][\"Complete\"]:\n",
        "    idx = value[0]\n",
        "    Year = np.isnan(df.loc[idx].Year)\n",
        "    Publisher = False if type(df.loc[idx].Publisher) == str else np.isnan(df.loc[idx].Publisher)\n",
        "    Genre = False if type(df.loc[idx].Genre) == str else np.isnan(df.loc[idx].Genre)\n",
        "    searched_values_[i] = [value[0], get_data_from_web(df.loc[idx].Name,\n",
        "                                            Year = Year,\n",
        "                                            Publisher = Publisher,\n",
        "                                            Genre = Genre,\n",
        "                                            Debug=True,\n",
        "                                            return_value = searched_values[i][1])]\n",
        "    print(\"\")"
      ],
      "metadata": {
        "colab": {
          "base_uri": "https://localhost:8080/"
        },
        "id": "Wx2SLTnY8dtv",
        "outputId": "108b344b-9ba7-43e1-91ba-d096f6f2505d"
      },
      "execution_count": null,
      "outputs": [
        {
          "output_type": "stream",
          "name": "stdout",
          "text": [
            "Battle vs. Chess Exception type : UnboundLocalError \n",
            "Exception message : local variable 'game_info_url' referenced before assignment\n",
            "Stack trace : ['File : <ipython-input-3-adfb243c89e3> , Line : 140, Func.Name : get_data_from_web, Message : print(game_info_url, end=\" \")']\n",
            "\n",
            "Pokemon X/Pokemon Y Exception type : UnboundLocalError \n",
            "Exception message : local variable 'game_info_url' referenced before assignment\n",
            "Stack trace : ['File : <ipython-input-3-adfb243c89e3> , Line : 140, Func.Name : get_data_from_web, Message : print(game_info_url, end=\" \")']\n",
            "\n",
            "Final Fantasy XI Exception type : UnboundLocalError \n",
            "Exception message : local variable 'game_info_url' referenced before assignment\n",
            "Stack trace : ['File : <ipython-input-3-adfb243c89e3> , Line : 140, Func.Name : get_data_from_web, Message : print(game_info_url, end=\" \")']\n",
            "\n",
            "Writing and Speaking Beautiful Japanese DS Exception type : UnboundLocalError \n",
            "Exception message : local variable 'game_info_url' referenced before assignment\n",
            "Stack trace : ['File : <ipython-input-3-adfb243c89e3> , Line : 140, Func.Name : get_data_from_web, Message : print(game_info_url, end=\" \")']\n",
            "\n",
            "Action Man-Operation Extreme  Publisher : Exception type : UnboundLocalError \n",
            "Exception message : local variable 'publisher' referenced before assignment\n",
            "Stack trace : [\"File : <ipython-input-3-adfb243c89e3> , Line : 110, Func.Name : get_data_from_web, Message : print(publisher, end = ' ')\"]\n",
            "\n",
            "Medabots: Metabee Exception type : UnboundLocalError \n",
            "Exception message : local variable 'game_info_url' referenced before assignment\n",
            "Stack trace : ['File : <ipython-input-3-adfb243c89e3> , Line : 140, Func.Name : get_data_from_web, Message : print(game_info_url, end=\" \")']\n",
            "\n",
            "Battle vs. Chess Exception type : UnboundLocalError \n",
            "Exception message : local variable 'game_info_url' referenced before assignment\n",
            "Stack trace : ['File : <ipython-input-3-adfb243c89e3> , Line : 140, Func.Name : get_data_from_web, Message : print(game_info_url, end=\" \")']\n",
            "\n",
            "Dragon Ball Z: Budokai Tenkaichi 2 (JP sales)  Publisher : Unknown https://www.vgchartz.com/game/49822/dragon-ball-z-budokai-tenkaichi-2-jp-sales/?region=All  Year : Exception type : ValueError \n",
            "Exception message : min() arg is an empty sequence\n",
            "Stack trace : ['File : <ipython-input-3-adfb243c89e3> , Line : 169, Func.Name : get_data_from_web, Message : year = get_year(str(min([int(y_[-2:]) for y_ in years_])))']\n",
            "\n",
            "The Legend of Zelda: The Minish Cap(weekly JP sales)  Publisher : Exception type : UnboundLocalError \n",
            "Exception message : local variable 'publisher' referenced before assignment\n",
            "Stack trace : [\"File : <ipython-input-3-adfb243c89e3> , Line : 110, Func.Name : get_data_from_web, Message : print(publisher, end = ' ')\"]\n",
            "\n",
            "Hakuouki: Shinsengumi Kitan Exception type : UnboundLocalError \n",
            "Exception message : local variable 'game_info_url' referenced before assignment\n",
            "Stack trace : ['File : <ipython-input-3-adfb243c89e3> , Line : 140, Func.Name : get_data_from_web, Message : print(game_info_url, end=\" \")']\n",
            "\n",
            "Clockwork Empires Exception type : UnboundLocalError \n",
            "Exception message : local variable 'game_info_url' referenced before assignment\n",
            "Stack trace : ['File : <ipython-input-3-adfb243c89e3> , Line : 140, Func.Name : get_data_from_web, Message : print(game_info_url, end=\" \")']\n",
            "\n",
            "Tour de France 2011 https://www.vgchartz.com/game/53231/tour-de-france-2011/?region=All  Year : Exception type : ValueError \n",
            "Exception message : min() arg is an empty sequence\n",
            "Stack trace : ['File : <ipython-input-3-adfb243c89e3> , Line : 169, Func.Name : get_data_from_web, Message : year = get_year(str(min([int(y_[-2:]) for y_ in years_])))']\n",
            "\n",
            "Yu Yu Hakusho: Dark Tournament  Publisher : Unknown https://www.vgchartz.com/game/65344/yu-yu-hakusho-dark-tournament/?region=All  Year : Exception type : ValueError \n",
            "Exception message : min() arg is an empty sequence\n",
            "Stack trace : ['File : <ipython-input-3-adfb243c89e3> , Line : 169, Func.Name : get_data_from_web, Message : year = get_year(str(min([int(y_[-2:]) for y_ in years_])))']\n",
            "\n",
            "Dream Dancer  Publisher : Unknown https://www.vgchartz.com/game/37456/dream-dancer/?region=All  Year : Exception type : ValueError \n",
            "Exception message : min() arg is an empty sequence\n",
            "Stack trace : ['File : <ipython-input-3-adfb243c89e3> , Line : 169, Func.Name : get_data_from_web, Message : year = get_year(str(min([int(y_[-2:]) for y_ in years_])))']\n",
            "\n"
          ]
        }
      ]
    },
    {
      "cell_type": "markdown",
      "source": [
        "#### 마지막으로 불량 데이터 확인"
      ],
      "metadata": {
        "id": "qUlHooujLEvv"
      }
    },
    {
      "cell_type": "code",
      "source": [
        "for i, value in enumerate(searched_values):\n",
        "\n",
        "  if not value[1][\"Complete\"]:\n",
        "    print(value)"
      ],
      "metadata": {
        "colab": {
          "base_uri": "https://localhost:8080/"
        },
        "id": "xHCQb5dTiUTD",
        "outputId": "1ce1eb56-f641-43db-ae41-c1b85970bd04"
      },
      "execution_count": null,
      "outputs": [
        {
          "output_type": "stream",
          "name": "stdout",
          "text": [
            "[675, {'Name': 'Battle vs. Chess', 'Complete': False, 'error': False, 'Year': -1}]\n",
            "[1971, {'Name': 'Pokemon X/Pokemon Y', 'Complete': False, 'error': False, 'Genre': -1}]\n",
            "[2026, {'Name': 'Final Fantasy XI', 'Complete': False, 'error': False, 'Year': -1}]\n",
            "[2408, {'Name': 'Writing and Speaking Beautiful Japanese DS', 'Complete': False, 'error': False, 'Year': -1}]\n",
            "[3184, {'Name': 'Action Man-Operation Extreme', 'Complete': False, 'error': False, 'Year': -1, 'Publisher': 'Unknown'}]\n",
            "[5945, {'Name': 'Medabots: Metabee', 'Complete': False, 'error': False, 'Genre': -1}]\n",
            "[9298, {'Name': 'Battle vs. Chess', 'Complete': False, 'error': False, 'Year': -1}]\n",
            "[9684, {'Name': 'Dragon Ball Z: Budokai Tenkaichi 2 (JP sales)', 'Complete': False, 'error': False, 'Year': -1, 'Publisher': 'Unknown'}]\n",
            "[10156, {'Name': 'The Legend of Zelda: The Minish Cap(weekly JP sales)', 'Complete': False, 'error': False, 'Year': -1, 'Publisher': 'Unknown'}]\n",
            "[11711, {'Name': 'Hakuouki: Shinsengumi Kitan', 'Complete': False, 'error': False, 'Year': -1}]\n",
            "[13954, {'Name': 'Clockwork Empires', 'Complete': False, 'error': False, 'Year': -1}]\n",
            "[15411, {'Name': 'Tour de France 2011', 'Complete': False, 'error': False, 'Year': -1}]\n",
            "[15669, {'Name': 'Yu Yu Hakusho: Dark Tournament', 'Complete': False, 'error': False, 'Year': -1, 'Publisher': 'Unknown'}]\n",
            "[15805, {'Name': 'Dream Dancer', 'Complete': False, 'error': False, 'Year': -1, 'Publisher': 'Unknown'}]\n"
          ]
        }
      ]
    },
    {
      "cell_type": "markdown",
      "source": [
        "### (3) 데이터 교정"
      ],
      "metadata": {
        "id": "AmuSu5npLgHK"
      }
    },
    {
      "cell_type": "code",
      "source": [
        "df_ = df.copy()"
      ],
      "metadata": {
        "id": "psKVGGE3b668"
      },
      "execution_count": null,
      "outputs": []
    },
    {
      "cell_type": "code",
      "source": [
        "df_.Year.loc[30]"
      ],
      "metadata": {
        "colab": {
          "base_uri": "https://localhost:8080/"
        },
        "id": "GCI9Ms9iNePC",
        "outputId": "77e90d41-3558-4489-fa22-82445f3b7cf8"
      },
      "execution_count": null,
      "outputs": [
        {
          "output_type": "execute_result",
          "data": {
            "text/plain": [
              "2011.0"
            ]
          },
          "metadata": {},
          "execution_count": 36
        }
      ]
    },
    {
      "cell_type": "code",
      "source": [
        "for idx, value in searched_values:\n",
        "\n",
        "  Name = value[\"Name\"]\n",
        "  if (\"Publisher\" in value.keys()):\n",
        "    if value[\"Publisher\"] != -1:\n",
        "\n",
        "      df_.at[idx,\"Publisher\"] = value[\"Publisher\"]\n",
        "\n",
        "  if (\"Genre\" in value.keys()):\n",
        "    if value[\"Genre\"] != -1:\n",
        "      df_.at[idx,\"Genre\"] = value[\"Genre\"]\n",
        "  \n",
        "  if (\"Year\" in value.keys()):\n",
        "    if value[\"Year\"] != -1:\n",
        "      df_.at[idx,\"Year\"] = value[\"Year\"]\n",
        "\n",
        "df_.isna().sum()"
      ],
      "metadata": {
        "colab": {
          "base_uri": "https://localhost:8080/"
        },
        "id": "u1nyCgnxLqGE",
        "outputId": "299fed45-50b0-4cf8-9acb-00d1ebe15ce1"
      },
      "execution_count": null,
      "outputs": [
        {
          "output_type": "execute_result",
          "data": {
            "text/plain": [
              "Name            0\n",
              "Platform        0\n",
              "Year           12\n",
              "Genre           2\n",
              "Publisher       0\n",
              "NA_Sales        0\n",
              "EU_Sales        0\n",
              "JP_Sales        0\n",
              "Other_Sales     0\n",
              "dtype: int64"
            ]
          },
          "metadata": {},
          "execution_count": 49
        }
      ]
    },
    {
      "cell_type": "markdown",
      "source": [
        "#### 교정되지 못한 데이터 제거"
      ],
      "metadata": {
        "id": "i2gSO4bLQ8Se"
      }
    },
    {
      "cell_type": "code",
      "source": [
        "df_.dropna(inplace = True)\n",
        "print(\"제거된 데이터의 수 : \", df.shape[0] - df_.shape[0])"
      ],
      "metadata": {
        "colab": {
          "base_uri": "https://localhost:8080/"
        },
        "id": "HhwSkojkQ54_",
        "outputId": "2cc3e52f-c470-4733-e889-c03039211648"
      },
      "execution_count": null,
      "outputs": [
        {
          "output_type": "stream",
          "name": "stdout",
          "text": [
            "제거된 데이터의 수 :  14\n"
          ]
        },
        {
          "output_type": "execute_result",
          "data": {
            "text/plain": [
              "Name           0\n",
              "Platform       0\n",
              "Year           0\n",
              "Genre          0\n",
              "Publisher      0\n",
              "NA_Sales       0\n",
              "EU_Sales       0\n",
              "JP_Sales       0\n",
              "Other_Sales    0\n",
              "dtype: int64"
            ]
          },
          "metadata": {},
          "execution_count": 54
        }
      ]
    },
    {
      "cell_type": "markdown",
      "source": [
        "### (4) 교정된 데이터 저장"
      ],
      "metadata": {
        "id": "lxumYbS2RrFe"
      }
    },
    {
      "cell_type": "code",
      "source": [
        "\n",
        "drive.mount('/content/drive')\n",
        "path = '/content/drive/My Drive/dataset/vgames2_modified.csv'\n",
        "\n",
        "with open(path, 'w') as f:\n",
        "  df_.to_csv(f)\n"
      ],
      "metadata": {
        "id": "bVb6QFWNu77X",
        "colab": {
          "base_uri": "https://localhost:8080/"
        },
        "outputId": "f0093bce-4ac8-470a-86ce-b7b6a17ddcf2"
      },
      "execution_count": null,
      "outputs": [
        {
          "output_type": "stream",
          "name": "stdout",
          "text": [
            "Drive already mounted at /content/drive; to attempt to forcibly remount, call drive.mount(\"/content/drive\", force_remount=True).\n"
          ]
        }
      ]
    },
    {
      "cell_type": "markdown",
      "source": [
        "### (5) 저장한 데이터 불러오기"
      ],
      "metadata": {
        "id": "Vm6JCFpRSdic"
      }
    },
    {
      "cell_type": "code",
      "source": [
        "df2 = pd.read_csv(\"/content/drive/My Drive/dataset/vgames2_modified.csv\").drop(axis=1, columns=\"Unnamed: 0\")\n",
        "df2"
      ],
      "metadata": {
        "colab": {
          "base_uri": "https://localhost:8080/",
          "height": 468
        },
        "id": "Z5D9eGlxScQW",
        "outputId": "b89385d4-d7d8-4539-c42d-055dce51b81d"
      },
      "execution_count": null,
      "outputs": [
        {
          "output_type": "execute_result",
          "data": {
            "text/plain": [
              "                                                 Name Platform    Year  \\\n",
              "0                        Candace Kane's Candy Factory       DS  2008.0   \n",
              "1                                      The Munchables      Wii  2009.0   \n",
              "2      Otome wa Oanesama Boku ni Koi Shiteru Portable      PSP  2010.0   \n",
              "3                    Deal or No Deal: Special Edition       DS  2010.0   \n",
              "4           Ben 10 Ultimate Alien: Cosmic Destruction      PS3  2010.0   \n",
              "...                                               ...      ...     ...   \n",
              "16578                         Ice Age 2: The Meltdown       GC  2006.0   \n",
              "16579                     Rainbow Islands: Revolution      PSP  2005.0   \n",
              "16580                                        NBA 2K16      PS3  2015.0   \n",
              "16581                     Toukiden: The Age of Demons      PSV  2013.0   \n",
              "16582                        The King of Fighters '95       PS  1996.0   \n",
              "\n",
              "           Genre                    Publisher NA_Sales EU_Sales JP_Sales  \\\n",
              "0         Action                    Destineer     0.04        0        0   \n",
              "1         Action           Namco Bandai Games     0.17        0        0   \n",
              "2      Adventure                    Alchemist        0        0     0.02   \n",
              "3           Misc                    Zoo Games     0.04        0        0   \n",
              "4       Platform                  D3Publisher     0.12     0.09        0   \n",
              "...          ...                          ...      ...      ...      ...   \n",
              "16578   Platform                Vivendi Games     0.15     0.04        0   \n",
              "16579     Action            Rising Star Games     0.01        0        0   \n",
              "16580     Sports         Take-Two Interactive     0.44     0.19     0.03   \n",
              "16581     Action                   Tecmo Koei     0.05     0.05     0.25   \n",
              "16582   Fighting  Sony Computer Entertainment        0        0     0.16   \n",
              "\n",
              "      Other_Sales  \n",
              "0               0  \n",
              "1            0.01  \n",
              "2               0  \n",
              "3               0  \n",
              "4            0.04  \n",
              "...           ...  \n",
              "16578        0.01  \n",
              "16579           0  \n",
              "16580        0.13  \n",
              "16581        0.03  \n",
              "16582        0.01  \n",
              "\n",
              "[16583 rows x 9 columns]"
            ],
            "text/html": [
              "\n",
              "  <div id=\"df-aa381b25-19ef-43df-82f4-8fbbe1df8cab\">\n",
              "    <div class=\"colab-df-container\">\n",
              "      <div>\n",
              "<style scoped>\n",
              "    .dataframe tbody tr th:only-of-type {\n",
              "        vertical-align: middle;\n",
              "    }\n",
              "\n",
              "    .dataframe tbody tr th {\n",
              "        vertical-align: top;\n",
              "    }\n",
              "\n",
              "    .dataframe thead th {\n",
              "        text-align: right;\n",
              "    }\n",
              "</style>\n",
              "<table border=\"1\" class=\"dataframe\">\n",
              "  <thead>\n",
              "    <tr style=\"text-align: right;\">\n",
              "      <th></th>\n",
              "      <th>Name</th>\n",
              "      <th>Platform</th>\n",
              "      <th>Year</th>\n",
              "      <th>Genre</th>\n",
              "      <th>Publisher</th>\n",
              "      <th>NA_Sales</th>\n",
              "      <th>EU_Sales</th>\n",
              "      <th>JP_Sales</th>\n",
              "      <th>Other_Sales</th>\n",
              "    </tr>\n",
              "  </thead>\n",
              "  <tbody>\n",
              "    <tr>\n",
              "      <th>0</th>\n",
              "      <td>Candace Kane's Candy Factory</td>\n",
              "      <td>DS</td>\n",
              "      <td>2008.0</td>\n",
              "      <td>Action</td>\n",
              "      <td>Destineer</td>\n",
              "      <td>0.04</td>\n",
              "      <td>0</td>\n",
              "      <td>0</td>\n",
              "      <td>0</td>\n",
              "    </tr>\n",
              "    <tr>\n",
              "      <th>1</th>\n",
              "      <td>The Munchables</td>\n",
              "      <td>Wii</td>\n",
              "      <td>2009.0</td>\n",
              "      <td>Action</td>\n",
              "      <td>Namco Bandai Games</td>\n",
              "      <td>0.17</td>\n",
              "      <td>0</td>\n",
              "      <td>0</td>\n",
              "      <td>0.01</td>\n",
              "    </tr>\n",
              "    <tr>\n",
              "      <th>2</th>\n",
              "      <td>Otome wa Oanesama Boku ni Koi Shiteru Portable</td>\n",
              "      <td>PSP</td>\n",
              "      <td>2010.0</td>\n",
              "      <td>Adventure</td>\n",
              "      <td>Alchemist</td>\n",
              "      <td>0</td>\n",
              "      <td>0</td>\n",
              "      <td>0.02</td>\n",
              "      <td>0</td>\n",
              "    </tr>\n",
              "    <tr>\n",
              "      <th>3</th>\n",
              "      <td>Deal or No Deal: Special Edition</td>\n",
              "      <td>DS</td>\n",
              "      <td>2010.0</td>\n",
              "      <td>Misc</td>\n",
              "      <td>Zoo Games</td>\n",
              "      <td>0.04</td>\n",
              "      <td>0</td>\n",
              "      <td>0</td>\n",
              "      <td>0</td>\n",
              "    </tr>\n",
              "    <tr>\n",
              "      <th>4</th>\n",
              "      <td>Ben 10 Ultimate Alien: Cosmic Destruction</td>\n",
              "      <td>PS3</td>\n",
              "      <td>2010.0</td>\n",
              "      <td>Platform</td>\n",
              "      <td>D3Publisher</td>\n",
              "      <td>0.12</td>\n",
              "      <td>0.09</td>\n",
              "      <td>0</td>\n",
              "      <td>0.04</td>\n",
              "    </tr>\n",
              "    <tr>\n",
              "      <th>...</th>\n",
              "      <td>...</td>\n",
              "      <td>...</td>\n",
              "      <td>...</td>\n",
              "      <td>...</td>\n",
              "      <td>...</td>\n",
              "      <td>...</td>\n",
              "      <td>...</td>\n",
              "      <td>...</td>\n",
              "      <td>...</td>\n",
              "    </tr>\n",
              "    <tr>\n",
              "      <th>16578</th>\n",
              "      <td>Ice Age 2: The Meltdown</td>\n",
              "      <td>GC</td>\n",
              "      <td>2006.0</td>\n",
              "      <td>Platform</td>\n",
              "      <td>Vivendi Games</td>\n",
              "      <td>0.15</td>\n",
              "      <td>0.04</td>\n",
              "      <td>0</td>\n",
              "      <td>0.01</td>\n",
              "    </tr>\n",
              "    <tr>\n",
              "      <th>16579</th>\n",
              "      <td>Rainbow Islands: Revolution</td>\n",
              "      <td>PSP</td>\n",
              "      <td>2005.0</td>\n",
              "      <td>Action</td>\n",
              "      <td>Rising Star Games</td>\n",
              "      <td>0.01</td>\n",
              "      <td>0</td>\n",
              "      <td>0</td>\n",
              "      <td>0</td>\n",
              "    </tr>\n",
              "    <tr>\n",
              "      <th>16580</th>\n",
              "      <td>NBA 2K16</td>\n",
              "      <td>PS3</td>\n",
              "      <td>2015.0</td>\n",
              "      <td>Sports</td>\n",
              "      <td>Take-Two Interactive</td>\n",
              "      <td>0.44</td>\n",
              "      <td>0.19</td>\n",
              "      <td>0.03</td>\n",
              "      <td>0.13</td>\n",
              "    </tr>\n",
              "    <tr>\n",
              "      <th>16581</th>\n",
              "      <td>Toukiden: The Age of Demons</td>\n",
              "      <td>PSV</td>\n",
              "      <td>2013.0</td>\n",
              "      <td>Action</td>\n",
              "      <td>Tecmo Koei</td>\n",
              "      <td>0.05</td>\n",
              "      <td>0.05</td>\n",
              "      <td>0.25</td>\n",
              "      <td>0.03</td>\n",
              "    </tr>\n",
              "    <tr>\n",
              "      <th>16582</th>\n",
              "      <td>The King of Fighters '95</td>\n",
              "      <td>PS</td>\n",
              "      <td>1996.0</td>\n",
              "      <td>Fighting</td>\n",
              "      <td>Sony Computer Entertainment</td>\n",
              "      <td>0</td>\n",
              "      <td>0</td>\n",
              "      <td>0.16</td>\n",
              "      <td>0.01</td>\n",
              "    </tr>\n",
              "  </tbody>\n",
              "</table>\n",
              "<p>16583 rows × 9 columns</p>\n",
              "</div>\n",
              "      <button class=\"colab-df-convert\" onclick=\"convertToInteractive('df-aa381b25-19ef-43df-82f4-8fbbe1df8cab')\"\n",
              "              title=\"Convert this dataframe to an interactive table.\"\n",
              "              style=\"display:none;\">\n",
              "        \n",
              "  <svg xmlns=\"http://www.w3.org/2000/svg\" height=\"24px\"viewBox=\"0 0 24 24\"\n",
              "       width=\"24px\">\n",
              "    <path d=\"M0 0h24v24H0V0z\" fill=\"none\"/>\n",
              "    <path d=\"M18.56 5.44l.94 2.06.94-2.06 2.06-.94-2.06-.94-.94-2.06-.94 2.06-2.06.94zm-11 1L8.5 8.5l.94-2.06 2.06-.94-2.06-.94L8.5 2.5l-.94 2.06-2.06.94zm10 10l.94 2.06.94-2.06 2.06-.94-2.06-.94-.94-2.06-.94 2.06-2.06.94z\"/><path d=\"M17.41 7.96l-1.37-1.37c-.4-.4-.92-.59-1.43-.59-.52 0-1.04.2-1.43.59L10.3 9.45l-7.72 7.72c-.78.78-.78 2.05 0 2.83L4 21.41c.39.39.9.59 1.41.59.51 0 1.02-.2 1.41-.59l7.78-7.78 2.81-2.81c.8-.78.8-2.07 0-2.86zM5.41 20L4 18.59l7.72-7.72 1.47 1.35L5.41 20z\"/>\n",
              "  </svg>\n",
              "      </button>\n",
              "      \n",
              "  <style>\n",
              "    .colab-df-container {\n",
              "      display:flex;\n",
              "      flex-wrap:wrap;\n",
              "      gap: 12px;\n",
              "    }\n",
              "\n",
              "    .colab-df-convert {\n",
              "      background-color: #E8F0FE;\n",
              "      border: none;\n",
              "      border-radius: 50%;\n",
              "      cursor: pointer;\n",
              "      display: none;\n",
              "      fill: #1967D2;\n",
              "      height: 32px;\n",
              "      padding: 0 0 0 0;\n",
              "      width: 32px;\n",
              "    }\n",
              "\n",
              "    .colab-df-convert:hover {\n",
              "      background-color: #E2EBFA;\n",
              "      box-shadow: 0px 1px 2px rgba(60, 64, 67, 0.3), 0px 1px 3px 1px rgba(60, 64, 67, 0.15);\n",
              "      fill: #174EA6;\n",
              "    }\n",
              "\n",
              "    [theme=dark] .colab-df-convert {\n",
              "      background-color: #3B4455;\n",
              "      fill: #D2E3FC;\n",
              "    }\n",
              "\n",
              "    [theme=dark] .colab-df-convert:hover {\n",
              "      background-color: #434B5C;\n",
              "      box-shadow: 0px 1px 3px 1px rgba(0, 0, 0, 0.15);\n",
              "      filter: drop-shadow(0px 1px 2px rgba(0, 0, 0, 0.3));\n",
              "      fill: #FFFFFF;\n",
              "    }\n",
              "  </style>\n",
              "\n",
              "      <script>\n",
              "        const buttonEl =\n",
              "          document.querySelector('#df-aa381b25-19ef-43df-82f4-8fbbe1df8cab button.colab-df-convert');\n",
              "        buttonEl.style.display =\n",
              "          google.colab.kernel.accessAllowed ? 'block' : 'none';\n",
              "\n",
              "        async function convertToInteractive(key) {\n",
              "          const element = document.querySelector('#df-aa381b25-19ef-43df-82f4-8fbbe1df8cab');\n",
              "          const dataTable =\n",
              "            await google.colab.kernel.invokeFunction('convertToInteractive',\n",
              "                                                     [key], {});\n",
              "          if (!dataTable) return;\n",
              "\n",
              "          const docLinkHtml = 'Like what you see? Visit the ' +\n",
              "            '<a target=\"_blank\" href=https://colab.research.google.com/notebooks/data_table.ipynb>data table notebook</a>'\n",
              "            + ' to learn more about interactive tables.';\n",
              "          element.innerHTML = '';\n",
              "          dataTable['output_type'] = 'display_data';\n",
              "          await google.colab.output.renderOutput(dataTable, element);\n",
              "          const docLink = document.createElement('div');\n",
              "          docLink.innerHTML = docLinkHtml;\n",
              "          element.appendChild(docLink);\n",
              "        }\n",
              "      </script>\n",
              "    </div>\n",
              "  </div>\n",
              "  "
            ]
          },
          "metadata": {},
          "execution_count": 65
        }
      ]
    }
  ]
}